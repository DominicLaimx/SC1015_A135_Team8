{
 "cells": [
  {
   "cell_type": "code",
   "execution_count": 1,
   "id": "ea6c8743",
   "metadata": {},
   "outputs": [],
   "source": [
    "# Basic Libraries\n",
    "import numpy as np\n",
    "import pandas as pd\n",
    "import seaborn as sb\n",
    "import matplotlib.pyplot as plt\n",
    "sb.set()"
   ]
  },
  {
   "cell_type": "code",
   "execution_count": 2,
   "id": "f7f482b2",
   "metadata": {},
   "outputs": [],
   "source": [
    "def concatcsv(inputfile,output):\n",
    "    tempdata = pd.read_csv(inputfile)\n",
    "    tempdata['city'] = inputfile.split('_')[0]\n",
    "    tempdata['weekdays'] = inputfile.split('_')[1].split('.')[0] == 'weekdays'\n",
    "    output = pd.concat([output,tempdata],axis=0)\n",
    "    return output"
   ]
  },
  {
   "cell_type": "code",
   "execution_count": 3,
   "id": "fd83be62",
   "metadata": {},
   "outputs": [
    {
     "data": {
      "text/html": [
       "<div>\n",
       "<style scoped>\n",
       "    .dataframe tbody tr th:only-of-type {\n",
       "        vertical-align: middle;\n",
       "    }\n",
       "\n",
       "    .dataframe tbody tr th {\n",
       "        vertical-align: top;\n",
       "    }\n",
       "\n",
       "    .dataframe thead th {\n",
       "        text-align: right;\n",
       "    }\n",
       "</style>\n",
       "<table border=\"1\" class=\"dataframe\">\n",
       "  <thead>\n",
       "    <tr style=\"text-align: right;\">\n",
       "      <th></th>\n",
       "      <th>Unnamed: 0</th>\n",
       "      <th>realSum</th>\n",
       "      <th>room_type</th>\n",
       "      <th>room_shared</th>\n",
       "      <th>room_private</th>\n",
       "      <th>person_capacity</th>\n",
       "      <th>host_is_superhost</th>\n",
       "      <th>multi</th>\n",
       "      <th>biz</th>\n",
       "      <th>cleanliness_rating</th>\n",
       "      <th>...</th>\n",
       "      <th>dist</th>\n",
       "      <th>metro_dist</th>\n",
       "      <th>attr_index</th>\n",
       "      <th>attr_index_norm</th>\n",
       "      <th>rest_index</th>\n",
       "      <th>rest_index_norm</th>\n",
       "      <th>lng</th>\n",
       "      <th>lat</th>\n",
       "      <th>city</th>\n",
       "      <th>weekdays</th>\n",
       "    </tr>\n",
       "  </thead>\n",
       "  <tbody>\n",
       "    <tr>\n",
       "      <th>0</th>\n",
       "      <td>0</td>\n",
       "      <td>194.033698</td>\n",
       "      <td>Private room</td>\n",
       "      <td>False</td>\n",
       "      <td>True</td>\n",
       "      <td>2.0</td>\n",
       "      <td>False</td>\n",
       "      <td>1</td>\n",
       "      <td>0</td>\n",
       "      <td>10.0</td>\n",
       "      <td>...</td>\n",
       "      <td>5.022964</td>\n",
       "      <td>2.539380</td>\n",
       "      <td>78.690379</td>\n",
       "      <td>4.166708</td>\n",
       "      <td>98.253896</td>\n",
       "      <td>6.846473</td>\n",
       "      <td>4.90569</td>\n",
       "      <td>52.41772</td>\n",
       "      <td>amsterdam</td>\n",
       "      <td>1</td>\n",
       "    </tr>\n",
       "    <tr>\n",
       "      <th>1</th>\n",
       "      <td>1</td>\n",
       "      <td>344.245776</td>\n",
       "      <td>Private room</td>\n",
       "      <td>False</td>\n",
       "      <td>True</td>\n",
       "      <td>4.0</td>\n",
       "      <td>False</td>\n",
       "      <td>0</td>\n",
       "      <td>0</td>\n",
       "      <td>8.0</td>\n",
       "      <td>...</td>\n",
       "      <td>0.488389</td>\n",
       "      <td>0.239404</td>\n",
       "      <td>631.176378</td>\n",
       "      <td>33.421209</td>\n",
       "      <td>837.280757</td>\n",
       "      <td>58.342928</td>\n",
       "      <td>4.90005</td>\n",
       "      <td>52.37432</td>\n",
       "      <td>amsterdam</td>\n",
       "      <td>1</td>\n",
       "    </tr>\n",
       "    <tr>\n",
       "      <th>2</th>\n",
       "      <td>2</td>\n",
       "      <td>264.101422</td>\n",
       "      <td>Private room</td>\n",
       "      <td>False</td>\n",
       "      <td>True</td>\n",
       "      <td>2.0</td>\n",
       "      <td>False</td>\n",
       "      <td>0</td>\n",
       "      <td>1</td>\n",
       "      <td>9.0</td>\n",
       "      <td>...</td>\n",
       "      <td>5.748312</td>\n",
       "      <td>3.651621</td>\n",
       "      <td>75.275877</td>\n",
       "      <td>3.985908</td>\n",
       "      <td>95.386955</td>\n",
       "      <td>6.646700</td>\n",
       "      <td>4.97512</td>\n",
       "      <td>52.36103</td>\n",
       "      <td>amsterdam</td>\n",
       "      <td>1</td>\n",
       "    </tr>\n",
       "    <tr>\n",
       "      <th>3</th>\n",
       "      <td>3</td>\n",
       "      <td>433.529398</td>\n",
       "      <td>Private room</td>\n",
       "      <td>False</td>\n",
       "      <td>True</td>\n",
       "      <td>4.0</td>\n",
       "      <td>False</td>\n",
       "      <td>0</td>\n",
       "      <td>1</td>\n",
       "      <td>9.0</td>\n",
       "      <td>...</td>\n",
       "      <td>0.384862</td>\n",
       "      <td>0.439876</td>\n",
       "      <td>493.272534</td>\n",
       "      <td>26.119108</td>\n",
       "      <td>875.033098</td>\n",
       "      <td>60.973565</td>\n",
       "      <td>4.89417</td>\n",
       "      <td>52.37663</td>\n",
       "      <td>amsterdam</td>\n",
       "      <td>1</td>\n",
       "    </tr>\n",
       "    <tr>\n",
       "      <th>4</th>\n",
       "      <td>4</td>\n",
       "      <td>485.552926</td>\n",
       "      <td>Private room</td>\n",
       "      <td>False</td>\n",
       "      <td>True</td>\n",
       "      <td>2.0</td>\n",
       "      <td>True</td>\n",
       "      <td>0</td>\n",
       "      <td>0</td>\n",
       "      <td>10.0</td>\n",
       "      <td>...</td>\n",
       "      <td>0.544738</td>\n",
       "      <td>0.318693</td>\n",
       "      <td>552.830324</td>\n",
       "      <td>29.272733</td>\n",
       "      <td>815.305740</td>\n",
       "      <td>56.811677</td>\n",
       "      <td>4.90051</td>\n",
       "      <td>52.37508</td>\n",
       "      <td>amsterdam</td>\n",
       "      <td>1</td>\n",
       "    </tr>\n",
       "  </tbody>\n",
       "</table>\n",
       "<p>5 rows × 22 columns</p>\n",
       "</div>"
      ],
      "text/plain": [
       "   Unnamed: 0     realSum     room_type  room_shared  room_private  \\\n",
       "0           0  194.033698  Private room        False          True   \n",
       "1           1  344.245776  Private room        False          True   \n",
       "2           2  264.101422  Private room        False          True   \n",
       "3           3  433.529398  Private room        False          True   \n",
       "4           4  485.552926  Private room        False          True   \n",
       "\n",
       "   person_capacity  host_is_superhost  multi  biz  cleanliness_rating  ...  \\\n",
       "0              2.0              False      1    0                10.0  ...   \n",
       "1              4.0              False      0    0                 8.0  ...   \n",
       "2              2.0              False      0    1                 9.0  ...   \n",
       "3              4.0              False      0    1                 9.0  ...   \n",
       "4              2.0               True      0    0                10.0  ...   \n",
       "\n",
       "       dist  metro_dist  attr_index  attr_index_norm  rest_index  \\\n",
       "0  5.022964    2.539380   78.690379         4.166708   98.253896   \n",
       "1  0.488389    0.239404  631.176378        33.421209  837.280757   \n",
       "2  5.748312    3.651621   75.275877         3.985908   95.386955   \n",
       "3  0.384862    0.439876  493.272534        26.119108  875.033098   \n",
       "4  0.544738    0.318693  552.830324        29.272733  815.305740   \n",
       "\n",
       "   rest_index_norm      lng       lat       city  weekdays  \n",
       "0         6.846473  4.90569  52.41772  amsterdam         1  \n",
       "1        58.342928  4.90005  52.37432  amsterdam         1  \n",
       "2         6.646700  4.97512  52.36103  amsterdam         1  \n",
       "3        60.973565  4.89417  52.37663  amsterdam         1  \n",
       "4        56.811677  4.90051  52.37508  amsterdam         1  \n",
       "\n",
       "[5 rows x 22 columns]"
      ]
     },
     "execution_count": 3,
     "metadata": {},
     "output_type": "execute_result"
    }
   ],
   "source": [
    "data = pd.read_csv('amsterdam_weekdays.csv',header='infer')\n",
    "data['city']='amsterdam'\n",
    "data['weekdays']=1\n",
    "data.head()"
   ]
  },
  {
   "cell_type": "code",
   "execution_count": 4,
   "id": "ecfa98da",
   "metadata": {},
   "outputs": [],
   "source": [
    "data = concatcsv('amsterdam_weekends.csv',data)\n",
    "data = concatcsv('athens_weekends.csv',data)\n",
    "data = concatcsv('athens_weekdays.csv',data)\n",
    "data = concatcsv('barcelona_weekends.csv',data)\n",
    "data = concatcsv('barcelona_weekdays.csv',data)\n",
    "data = concatcsv('berlin_weekends.csv',data)\n",
    "data = concatcsv('berlin_weekdays.csv',data)\n",
    "data = concatcsv('budapest_weekends.csv',data)\n",
    "data = concatcsv('budapest_weekdays.csv',data)\n",
    "data = concatcsv('lisbon_weekends.csv',data)\n",
    "data = concatcsv('lisbon_weekdays.csv',data)\n",
    "data = concatcsv('london_weekends.csv',data)\n",
    "data = concatcsv('london_weekdays.csv',data)\n",
    "data = concatcsv('paris_weekends.csv',data)\n",
    "data = concatcsv('paris_weekdays.csv',data)\n",
    "data = concatcsv('rome_weekends.csv',data)\n",
    "data = concatcsv('rome_weekdays.csv',data)\n",
    "data = concatcsv('vienna_weekends.csv',data)\n",
    "data = concatcsv('vienna_weekdays.csv',data)"
   ]
  },
  {
   "cell_type": "code",
   "execution_count": 5,
   "id": "2c8d59b7",
   "metadata": {},
   "outputs": [
    {
     "data": {
      "text/plain": [
       "0    26207\n",
       "1    25500\n",
       "Name: weekdays, dtype: int64"
      ]
     },
     "execution_count": 5,
     "metadata": {},
     "output_type": "execute_result"
    }
   ],
   "source": [
    "data['weekdays'].value_counts()"
   ]
  },
  {
   "cell_type": "code",
   "execution_count": 6,
   "id": "7b69f26d",
   "metadata": {},
   "outputs": [
    {
     "data": {
      "text/plain": [
       "london       9993\n",
       "rome         9027\n",
       "paris        6688\n",
       "lisbon       5763\n",
       "athens       5280\n",
       "budapest     4022\n",
       "vienna       3537\n",
       "barcelona    2833\n",
       "berlin       2484\n",
       "amsterdam    2080\n",
       "Name: city, dtype: int64"
      ]
     },
     "execution_count": 6,
     "metadata": {},
     "output_type": "execute_result"
    }
   ],
   "source": [
    "data['city'].value_counts()\n"
   ]
  },
  {
   "cell_type": "code",
   "execution_count": 7,
   "id": "a0ef833e",
   "metadata": {},
   "outputs": [],
   "source": [
    "data.drop(columns=data.columns[0],inplace=True)"
   ]
  },
  {
   "cell_type": "code",
   "execution_count": 8,
   "id": "7b96ab39",
   "metadata": {},
   "outputs": [
    {
     "name": "stdout",
     "output_type": "stream",
     "text": [
      "realSum                       float64\n",
      "room_type                      object\n",
      "room_shared                      bool\n",
      "room_private                     bool\n",
      "person_capacity               float64\n",
      "host_is_superhost                bool\n",
      "multi                           int64\n",
      "biz                             int64\n",
      "cleanliness_rating            float64\n",
      "guest_satisfaction_overall    float64\n",
      "bedrooms                        int64\n",
      "dist                          float64\n",
      "metro_dist                    float64\n",
      "attr_index                    float64\n",
      "attr_index_norm               float64\n",
      "rest_index                    float64\n",
      "rest_index_norm               float64\n",
      "lng                           float64\n",
      "lat                           float64\n",
      "city                           object\n",
      "weekdays                        int64\n",
      "dtype: object\n"
     ]
    }
   ],
   "source": [
    "print(data.dtypes)"
   ]
  },
  {
   "cell_type": "code",
   "execution_count": 9,
   "id": "611bfe3c",
   "metadata": {},
   "outputs": [
    {
     "data": {
      "text/html": [
       "<div>\n",
       "<style scoped>\n",
       "    .dataframe tbody tr th:only-of-type {\n",
       "        vertical-align: middle;\n",
       "    }\n",
       "\n",
       "    .dataframe tbody tr th {\n",
       "        vertical-align: top;\n",
       "    }\n",
       "\n",
       "    .dataframe thead th {\n",
       "        text-align: right;\n",
       "    }\n",
       "</style>\n",
       "<table border=\"1\" class=\"dataframe\">\n",
       "  <thead>\n",
       "    <tr style=\"text-align: right;\">\n",
       "      <th></th>\n",
       "      <th>realSum</th>\n",
       "      <th>person_capacity</th>\n",
       "      <th>multi</th>\n",
       "      <th>biz</th>\n",
       "      <th>cleanliness_rating</th>\n",
       "      <th>guest_satisfaction_overall</th>\n",
       "      <th>bedrooms</th>\n",
       "      <th>dist</th>\n",
       "      <th>metro_dist</th>\n",
       "      <th>attr_index</th>\n",
       "      <th>attr_index_norm</th>\n",
       "      <th>rest_index</th>\n",
       "      <th>rest_index_norm</th>\n",
       "      <th>lng</th>\n",
       "      <th>lat</th>\n",
       "      <th>weekdays</th>\n",
       "    </tr>\n",
       "  </thead>\n",
       "  <tbody>\n",
       "    <tr>\n",
       "      <th>count</th>\n",
       "      <td>51707.000000</td>\n",
       "      <td>51707.000000</td>\n",
       "      <td>51707.000000</td>\n",
       "      <td>51707.000000</td>\n",
       "      <td>51707.000000</td>\n",
       "      <td>51707.000000</td>\n",
       "      <td>51707.00000</td>\n",
       "      <td>51707.000000</td>\n",
       "      <td>51707.000000</td>\n",
       "      <td>51707.000000</td>\n",
       "      <td>51707.000000</td>\n",
       "      <td>51707.000000</td>\n",
       "      <td>51707.000000</td>\n",
       "      <td>51707.000000</td>\n",
       "      <td>51707.000000</td>\n",
       "      <td>51707.000000</td>\n",
       "    </tr>\n",
       "    <tr>\n",
       "      <th>mean</th>\n",
       "      <td>279.879591</td>\n",
       "      <td>3.161661</td>\n",
       "      <td>0.291353</td>\n",
       "      <td>0.350204</td>\n",
       "      <td>9.390624</td>\n",
       "      <td>92.628232</td>\n",
       "      <td>1.15876</td>\n",
       "      <td>3.191285</td>\n",
       "      <td>0.681540</td>\n",
       "      <td>294.204105</td>\n",
       "      <td>13.423792</td>\n",
       "      <td>626.856696</td>\n",
       "      <td>22.786177</td>\n",
       "      <td>7.426068</td>\n",
       "      <td>45.671128</td>\n",
       "      <td>0.493163</td>\n",
       "    </tr>\n",
       "    <tr>\n",
       "      <th>std</th>\n",
       "      <td>327.948386</td>\n",
       "      <td>1.298545</td>\n",
       "      <td>0.454390</td>\n",
       "      <td>0.477038</td>\n",
       "      <td>0.954868</td>\n",
       "      <td>8.945531</td>\n",
       "      <td>0.62741</td>\n",
       "      <td>2.393803</td>\n",
       "      <td>0.858023</td>\n",
       "      <td>224.754123</td>\n",
       "      <td>9.807985</td>\n",
       "      <td>497.920226</td>\n",
       "      <td>17.804096</td>\n",
       "      <td>9.799725</td>\n",
       "      <td>5.249263</td>\n",
       "      <td>0.499958</td>\n",
       "    </tr>\n",
       "    <tr>\n",
       "      <th>min</th>\n",
       "      <td>34.779339</td>\n",
       "      <td>2.000000</td>\n",
       "      <td>0.000000</td>\n",
       "      <td>0.000000</td>\n",
       "      <td>2.000000</td>\n",
       "      <td>20.000000</td>\n",
       "      <td>0.00000</td>\n",
       "      <td>0.015045</td>\n",
       "      <td>0.002301</td>\n",
       "      <td>15.152201</td>\n",
       "      <td>0.926301</td>\n",
       "      <td>19.576924</td>\n",
       "      <td>0.592757</td>\n",
       "      <td>-9.226340</td>\n",
       "      <td>37.953000</td>\n",
       "      <td>0.000000</td>\n",
       "    </tr>\n",
       "    <tr>\n",
       "      <th>25%</th>\n",
       "      <td>148.752174</td>\n",
       "      <td>2.000000</td>\n",
       "      <td>0.000000</td>\n",
       "      <td>0.000000</td>\n",
       "      <td>9.000000</td>\n",
       "      <td>90.000000</td>\n",
       "      <td>1.00000</td>\n",
       "      <td>1.453142</td>\n",
       "      <td>0.248480</td>\n",
       "      <td>136.797385</td>\n",
       "      <td>6.380926</td>\n",
       "      <td>250.854114</td>\n",
       "      <td>8.751480</td>\n",
       "      <td>-0.072500</td>\n",
       "      <td>41.399510</td>\n",
       "      <td>0.000000</td>\n",
       "    </tr>\n",
       "    <tr>\n",
       "      <th>50%</th>\n",
       "      <td>211.343089</td>\n",
       "      <td>3.000000</td>\n",
       "      <td>0.000000</td>\n",
       "      <td>0.000000</td>\n",
       "      <td>10.000000</td>\n",
       "      <td>95.000000</td>\n",
       "      <td>1.00000</td>\n",
       "      <td>2.613538</td>\n",
       "      <td>0.413269</td>\n",
       "      <td>234.331748</td>\n",
       "      <td>11.468305</td>\n",
       "      <td>522.052783</td>\n",
       "      <td>17.542238</td>\n",
       "      <td>4.873000</td>\n",
       "      <td>47.506690</td>\n",
       "      <td>0.000000</td>\n",
       "    </tr>\n",
       "    <tr>\n",
       "      <th>75%</th>\n",
       "      <td>319.694287</td>\n",
       "      <td>4.000000</td>\n",
       "      <td>1.000000</td>\n",
       "      <td>1.000000</td>\n",
       "      <td>10.000000</td>\n",
       "      <td>99.000000</td>\n",
       "      <td>1.00000</td>\n",
       "      <td>4.263077</td>\n",
       "      <td>0.737840</td>\n",
       "      <td>385.756381</td>\n",
       "      <td>17.415082</td>\n",
       "      <td>832.628988</td>\n",
       "      <td>32.964603</td>\n",
       "      <td>13.518825</td>\n",
       "      <td>51.471885</td>\n",
       "      <td>1.000000</td>\n",
       "    </tr>\n",
       "    <tr>\n",
       "      <th>max</th>\n",
       "      <td>18545.450285</td>\n",
       "      <td>6.000000</td>\n",
       "      <td>1.000000</td>\n",
       "      <td>1.000000</td>\n",
       "      <td>10.000000</td>\n",
       "      <td>100.000000</td>\n",
       "      <td>10.00000</td>\n",
       "      <td>25.284557</td>\n",
       "      <td>14.273577</td>\n",
       "      <td>4513.563486</td>\n",
       "      <td>100.000000</td>\n",
       "      <td>6696.156772</td>\n",
       "      <td>100.000000</td>\n",
       "      <td>23.786020</td>\n",
       "      <td>52.641410</td>\n",
       "      <td>1.000000</td>\n",
       "    </tr>\n",
       "  </tbody>\n",
       "</table>\n",
       "</div>"
      ],
      "text/plain": [
       "            realSum  person_capacity         multi           biz  \\\n",
       "count  51707.000000     51707.000000  51707.000000  51707.000000   \n",
       "mean     279.879591         3.161661      0.291353      0.350204   \n",
       "std      327.948386         1.298545      0.454390      0.477038   \n",
       "min       34.779339         2.000000      0.000000      0.000000   \n",
       "25%      148.752174         2.000000      0.000000      0.000000   \n",
       "50%      211.343089         3.000000      0.000000      0.000000   \n",
       "75%      319.694287         4.000000      1.000000      1.000000   \n",
       "max    18545.450285         6.000000      1.000000      1.000000   \n",
       "\n",
       "       cleanliness_rating  guest_satisfaction_overall     bedrooms  \\\n",
       "count        51707.000000                51707.000000  51707.00000   \n",
       "mean             9.390624                   92.628232      1.15876   \n",
       "std              0.954868                    8.945531      0.62741   \n",
       "min              2.000000                   20.000000      0.00000   \n",
       "25%              9.000000                   90.000000      1.00000   \n",
       "50%             10.000000                   95.000000      1.00000   \n",
       "75%             10.000000                   99.000000      1.00000   \n",
       "max             10.000000                  100.000000     10.00000   \n",
       "\n",
       "               dist    metro_dist    attr_index  attr_index_norm  \\\n",
       "count  51707.000000  51707.000000  51707.000000     51707.000000   \n",
       "mean       3.191285      0.681540    294.204105        13.423792   \n",
       "std        2.393803      0.858023    224.754123         9.807985   \n",
       "min        0.015045      0.002301     15.152201         0.926301   \n",
       "25%        1.453142      0.248480    136.797385         6.380926   \n",
       "50%        2.613538      0.413269    234.331748        11.468305   \n",
       "75%        4.263077      0.737840    385.756381        17.415082   \n",
       "max       25.284557     14.273577   4513.563486       100.000000   \n",
       "\n",
       "         rest_index  rest_index_norm           lng           lat      weekdays  \n",
       "count  51707.000000     51707.000000  51707.000000  51707.000000  51707.000000  \n",
       "mean     626.856696        22.786177      7.426068     45.671128      0.493163  \n",
       "std      497.920226        17.804096      9.799725      5.249263      0.499958  \n",
       "min       19.576924         0.592757     -9.226340     37.953000      0.000000  \n",
       "25%      250.854114         8.751480     -0.072500     41.399510      0.000000  \n",
       "50%      522.052783        17.542238      4.873000     47.506690      0.000000  \n",
       "75%      832.628988        32.964603     13.518825     51.471885      1.000000  \n",
       "max     6696.156772       100.000000     23.786020     52.641410      1.000000  "
      ]
     },
     "execution_count": 9,
     "metadata": {},
     "output_type": "execute_result"
    }
   ],
   "source": [
    "# print(data.dtypes)\n",
    "data.describe()"
   ]
  },
  {
   "cell_type": "code",
   "execution_count": 10,
   "id": "2b7de3fe",
   "metadata": {},
   "outputs": [
    {
     "name": "stdout",
     "output_type": "stream",
     "text": [
      "realSum                       0\n",
      "room_type                     0\n",
      "room_shared                   0\n",
      "room_private                  0\n",
      "person_capacity               0\n",
      "host_is_superhost             0\n",
      "multi                         0\n",
      "biz                           0\n",
      "cleanliness_rating            0\n",
      "guest_satisfaction_overall    0\n",
      "bedrooms                      0\n",
      "dist                          0\n",
      "metro_dist                    0\n",
      "attr_index                    0\n",
      "attr_index_norm               0\n",
      "rest_index                    0\n",
      "rest_index_norm               0\n",
      "lng                           0\n",
      "lat                           0\n",
      "city                          0\n",
      "weekdays                      0\n",
      "dtype: int64\n"
     ]
    }
   ],
   "source": [
    "print(data.isnull().sum())"
   ]
  },
  {
   "cell_type": "code",
   "execution_count": 11,
   "id": "9f4c9382",
   "metadata": {},
   "outputs": [
    {
     "data": {
      "text/plain": [
       "0"
      ]
     },
     "execution_count": 11,
     "metadata": {},
     "output_type": "execute_result"
    }
   ],
   "source": [
    "data.duplicated().sum()"
   ]
  },
  {
   "cell_type": "code",
   "execution_count": 12,
   "id": "0d415f4b",
   "metadata": {},
   "outputs": [
    {
     "data": {
      "text/plain": [
       "<Axes: xlabel='realSum'>"
      ]
     },
     "execution_count": 12,
     "metadata": {},
     "output_type": "execute_result"
    },
    {
     "data": {
      "image/png": "[encoded data removed]",
      "text/plain": [
       "<Figure size 432x288 with 1 Axes>"
      ]
     },
     "metadata": {
      "needs_background": "light"
     },
     "output_type": "display_data"
    }
   ],
   "source": [
    "sb.boxplot(x=data['realSum'],orient = 'h')"
   ]
  },
  {
   "cell_type": "code",
   "execution_count": 13,
   "id": "e741f38f",
   "metadata": {},
   "outputs": [
    {
     "data": {
      "text/plain": [
       "<Axes: xlabel='realSum', ylabel='Count'>"
      ]
     },
     "execution_count": 13,
     "metadata": {},
     "output_type": "execute_result"
    },
    {
     "data": {
      "image/png": "[encoded data removed]",
      "text/plain": [
       "<Figure size 432x288 with 1 Axes>"
      ]
     },
     "metadata": {
      "needs_background": "light"
     },
     "output_type": "display_data"
    }
   ],
   "source": [
    "sb.histplot(data=data['realSum'])"
   ]
  },
  {
   "cell_type": "code",
   "execution_count": 14,
   "id": "99960b3d",
   "metadata": {},
   "outputs": [
    {
     "data": {
      "text/plain": [
       "21.419956563350983"
      ]
     },
     "execution_count": 14,
     "metadata": {},
     "output_type": "execute_result"
    }
   ],
   "source": [
    "data['realSum'].skew()"
   ]
  },
  {
   "cell_type": "code",
   "execution_count": 15,
   "id": "f1d45539",
   "metadata": {},
   "outputs": [],
   "source": [
    "def outlier(df, col):\n",
    "    sorted(df[col])\n",
    "    Q1,Q3 = np.percentile(df[col] , [25,75])\n",
    "    IQR = Q3 - Q1\n",
    "    lower_range = Q1 - (1.5 * IQR)\n",
    "    upper_range = Q3 + (1.5 * IQR)\n",
    "    return lower_range,upper_range"
   ]
  },
  {
   "cell_type": "code",
   "execution_count": 16,
   "id": "26c3a82d",
   "metadata": {},
   "outputs": [
    {
     "name": "stdout",
     "output_type": "stream",
     "text": [
      "lower:  -107.660995498034\n",
      "upper:  576.1074557199221\n"
     ]
    }
   ],
   "source": [
    "lower , upper = outlier(data, 'realSum')\n",
    "print(\"lower: \",lower)\n",
    "print(\"upper: \",upper)"
   ]
  },
  {
   "cell_type": "code",
   "execution_count": 17,
   "id": "f85e2fe3",
   "metadata": {},
   "outputs": [
    {
     "data": {
      "text/plain": [
       "500.88004895552956"
      ]
     },
     "execution_count": 17,
     "metadata": {},
     "output_type": "execute_result"
    }
   ],
   "source": [
    "data['realSum'].quantile(0.9)"
   ]
  },
  {
   "cell_type": "code",
   "execution_count": 18,
   "id": "d0598144",
   "metadata": {},
   "outputs": [],
   "source": [
    "tempdf = data[data['realSum']>upper]"
   ]
  },
  {
   "cell_type": "code",
   "execution_count": 19,
   "id": "07efe102",
   "metadata": {},
   "outputs": [
    {
     "data": {
      "text/plain": [
       "london       9993\n",
       "rome         9027\n",
       "paris        6688\n",
       "lisbon       5763\n",
       "athens       5280\n",
       "budapest     4022\n",
       "vienna       3537\n",
       "barcelona    2833\n",
       "berlin       2484\n",
       "amsterdam    2080\n",
       "Name: city, dtype: int64"
      ]
     },
     "execution_count": 19,
     "metadata": {},
     "output_type": "execute_result"
    }
   ],
   "source": [
    "data['city'].value_counts()"
   ]
  },
  {
   "cell_type": "code",
   "execution_count": 20,
   "id": "f72cfb3d",
   "metadata": {},
   "outputs": [
    {
     "data": {
      "text/plain": [
       "london       1332\n",
       "paris         979\n",
       "amsterdam     740\n",
       "barcelona     231\n",
       "berlin        104\n",
       "rome           87\n",
       "lisbon         67\n",
       "vienna         54\n",
       "budapest       42\n",
       "athens         26\n",
       "Name: city, dtype: int64"
      ]
     },
     "execution_count": 20,
     "metadata": {},
     "output_type": "execute_result"
    }
   ],
   "source": [
    "tempdf['city'].value_counts()"
   ]
  },
  {
   "cell_type": "code",
   "execution_count": 21,
   "id": "7801aa35",
   "metadata": {},
   "outputs": [
    {
     "data": {
      "text/plain": [
       "Entire home/apt    32648\n",
       "Private room       18693\n",
       "Shared room          366\n",
       "Name: room_type, dtype: int64"
      ]
     },
     "execution_count": 21,
     "metadata": {},
     "output_type": "execute_result"
    }
   ],
   "source": [
    "data['room_type'].value_counts()"
   ]
  },
  {
   "cell_type": "code",
   "execution_count": 22,
   "id": "c53affa2",
   "metadata": {},
   "outputs": [
    {
     "data": {
      "text/plain": [
       "Entire home/apt    3312\n",
       "Private room        348\n",
       "Shared room           2\n",
       "Name: room_type, dtype: int64"
      ]
     },
     "execution_count": 22,
     "metadata": {},
     "output_type": "execute_result"
    }
   ],
   "source": [
    "tempdf['room_type'].value_counts()"
   ]
  },
  {
   "cell_type": "code",
   "execution_count": 23,
   "id": "a7c02a38",
   "metadata": {},
   "outputs": [],
   "source": [
    "outlierindex = data[data['realSum']>upper].index\n",
    "data.drop(index=outlierindex, inplace=True)"
   ]
  },
  {
   "cell_type": "code",
   "execution_count": 24,
   "id": "f1e73598",
   "metadata": {},
   "outputs": [
    {
     "data": {
      "text/plain": [
       "<Axes: xlabel='realSum'>"
      ]
     },
     "execution_count": 24,
     "metadata": {},
     "output_type": "execute_result"
    },
    {
     "data": {
      "image/png": "[encoded data removed]",
      "text/plain": [
       "<Figure size 432x288 with 1 Axes>"
      ]
     },
     "metadata": {
      "needs_background": "light"
     },
     "output_type": "display_data"
    }
   ],
   "source": [
    "sb.boxplot(x=data['realSum'],orient = 'h')"
   ]
  },
  {
   "cell_type": "code",
   "execution_count": 25,
   "id": "74ae3891",
   "metadata": {},
   "outputs": [
    {
     "data": {
      "text/plain": [
       "<Axes: xlabel='realSum', ylabel='Count'>"
      ]
     },
     "execution_count": 25,
     "metadata": {},
     "output_type": "execute_result"
    },
    {
     "data": {
      "image/png": "[encoded data removed]",
      "text/plain": [
       "<Figure size 432x288 with 1 Axes>"
      ]
     },
     "metadata": {
      "needs_background": "light"
     },
     "output_type": "display_data"
    }
   ],
   "source": [
    "sb.histplot(data=data['realSum'])"
   ]
  },
  {
   "cell_type": "code",
   "execution_count": 26,
   "id": "94bc4e3e",
   "metadata": {},
   "outputs": [
    {
     "data": {
      "text/plain": [
       "0.9588883821807196"
      ]
     },
     "execution_count": 26,
     "metadata": {},
     "output_type": "execute_result"
    }
   ],
   "source": [
    "data['realSum'].skew()"
   ]
  },
  {
   "cell_type": "code",
   "execution_count": 27,
   "id": "23c892f9",
   "metadata": {},
   "outputs": [
    {
     "data": {
      "text/plain": [
       "Entire home/apt    12164\n",
       "Private room        7958\n",
       "Shared room          138\n",
       "Name: room_type, dtype: int64"
      ]
     },
     "execution_count": 27,
     "metadata": {},
     "output_type": "execute_result"
    }
   ],
   "source": [
    "data['room_type'].value_counts()"
   ]
  },
  {
   "cell_type": "code",
   "execution_count": 28,
   "id": "d60d548e",
   "metadata": {},
   "outputs": [
    {
     "data": {
      "text/plain": [
       "False    20122\n",
       "True       138\n",
       "Name: room_shared, dtype: int64"
      ]
     },
     "execution_count": 28,
     "metadata": {},
     "output_type": "execute_result"
    }
   ],
   "source": [
    "data['room_shared'].value_counts()"
   ]
  },
  {
   "cell_type": "code",
   "execution_count": 29,
   "id": "f3bd9134",
   "metadata": {},
   "outputs": [
    {
     "data": {
      "text/plain": [
       "False    12302\n",
       "True      7958\n",
       "Name: room_private, dtype: int64"
      ]
     },
     "execution_count": 29,
     "metadata": {},
     "output_type": "execute_result"
    }
   ],
   "source": [
    "data['room_private'].value_counts()"
   ]
  },
  {
   "cell_type": "code",
   "execution_count": 30,
   "id": "6cc9a36e",
   "metadata": {},
   "outputs": [
    {
     "name": "stdout",
     "output_type": "stream",
     "text": [
      "<class 'pandas.core.frame.DataFrame'>\n",
      "Int64Index: 20260 entries, 0 to 1735\n",
      "Data columns (total 21 columns):\n",
      " #   Column                      Non-Null Count  Dtype  \n",
      "---  ------                      --------------  -----  \n",
      " 0   realSum                     20260 non-null  float64\n",
      " 1   room_type                   20260 non-null  object \n",
      " 2   room_shared                 20260 non-null  bool   \n",
      " 3   room_private                20260 non-null  bool   \n",
      " 4   person_capacity             20260 non-null  float64\n",
      " 5   host_is_superhost           20260 non-null  bool   \n",
      " 6   multi                       20260 non-null  int64  \n",
      " 7   biz                         20260 non-null  int64  \n",
      " 8   cleanliness_rating          20260 non-null  float64\n",
      " 9   guest_satisfaction_overall  20260 non-null  float64\n",
      " 10  bedrooms                    20260 non-null  int64  \n",
      " 11  dist                        20260 non-null  float64\n",
      " 12  metro_dist                  20260 non-null  float64\n",
      " 13  attr_index                  20260 non-null  float64\n",
      " 14  attr_index_norm             20260 non-null  float64\n",
      " 15  rest_index                  20260 non-null  float64\n",
      " 16  rest_index_norm             20260 non-null  float64\n",
      " 17  lng                         20260 non-null  float64\n",
      " 18  lat                         20260 non-null  float64\n",
      " 19  city                        20260 non-null  object \n",
      " 20  weekdays                    20260 non-null  int64  \n",
      "dtypes: bool(3), float64(12), int64(4), object(2)\n",
      "memory usage: 3.0+ MB\n"
     ]
    }
   ],
   "source": [
    "data.info()"
   ]
  },
  {
   "cell_type": "code",
   "execution_count": 31,
   "id": "bb1a8271",
   "metadata": {
    "scrolled": true
   },
   "outputs": [
    {
     "data": {
      "text/plain": [
       "count    20260.000000\n",
       "mean       232.416300\n",
       "std        112.650525\n",
       "min         40.184236\n",
       "25%        147.165655\n",
       "50%        206.260730\n",
       "75%        289.988005\n",
       "max        575.977798\n",
       "Name: realSum, dtype: float64"
      ]
     },
     "execution_count": 31,
     "metadata": {},
     "output_type": "execute_result"
    }
   ],
   "source": [
    "data['realSum'].describe()"
   ]
  },
  {
   "cell_type": "code",
   "execution_count": 36,
   "id": "946761eb",
   "metadata": {},
   "outputs": [],
   "source": [
    "realSum = pd.DataFrame(data['realSum'])\n",
    "person_capacity = pd.DataFrame(data['person_capacity'])\n",
    "metro_dist = pd.DataFrame(data['metro_dist'])\n",
    "dist = pd.DataFrame(data['dist'])\n",
    "lng = pd.DataFrame(data['lng'])\n",
    "lat = pd.DataFrame(data['lat'])\n",
    "attr_index = pd.DataFrame(data['attr_index'])\n",
    "attr_index_norm = pd.DataFrame(data['attr_index_norm'])\n",
    "rest_index = pd.DataFrame(data['rest_index'])\n",
    "rest_index_norm = pd.DataFrame(data['rest_index_norm'])"
   ]
  },
  {
   "cell_type": "code",
   "execution_count": 53,
   "id": "059a0eb5",
   "metadata": {},
   "outputs": [
    {
     "name": "stderr",
     "output_type": "stream",
     "text": [
      "C:\\Users\\Kendrea\\Anaconda\\lib\\site-packages\\seaborn\\categorical.py:82: FutureWarning: iteritems is deprecated and will be removed in a future version. Use .items instead.\n",
      "  plot_data = [np.asarray(s, float) for k, s in iter_data]\n"
     ]
    },
    {
     "data": {
      "text/plain": [
       "<Axes: >"
      ]
     },
     "execution_count": 53,
     "metadata": {},
     "output_type": "execute_result"
    },
    {
     "data": {
      "image/png": "[encoded data removed]",
      "text/plain": [
       "<Figure size 3600x3600 with 1 Axes>"
      ]
     },
     "metadata": {
      "needs_background": "light"
     },
     "output_type": "display_data"
    },
    {
     "data": {
      "image/png": "[encoded data removed]",
      "text/plain": [
       "<Figure size 864x864 with 2 Axes>"
      ]
     },
     "metadata": {
      "needs_background": "light"
     },
     "output_type": "display_data"
    }
   ],
   "source": [
    "# Extract only the numeric data variables\n",
    "numDF = pd.DataFrame(data[[\"realSum\", \"person_capacity\", \"metro_dist\", \"dist\", \"lng\", \"lat\"]])\n",
    "\n",
    "# Summary Statistics for all Variables\n",
    "numDF.describe()\n",
    "\n",
    "f = plt.figure(figsize=(50, 50))\n",
    "sb.boxplot(data = numDF, orient = \"h\")\n",
    "\n",
    "numDF.corr()\n",
    "\n",
    "f = plt.figure(figsize=(12, 12))\n",
    "sb.heatmap(numDF.corr(), vmin = -1, vmax = 1, annot = True, fmt = \".2f\")"
   ]
  },
  {
   "cell_type": "code",
   "execution_count": null,
   "id": "9d7f20a3",
   "metadata": {},
   "outputs": [],
   "source": []
  }
 ],
 "metadata": {
  "kernelspec": {
   "display_name": "Python 3 (ipykernel)",
   "language": "python",
   "name": "python3"
  },
  "language_info": {
   "codemirror_mode": {
    "name": "ipython",
    "version": 3
   },
   "file_extension": ".py",
   "mimetype": "text/x-python",
   "name": "python",
   "nbconvert_exporter": "python",
   "pygments_lexer": "ipython3",
   "version": "3.9.12"
  }
 },
 "nbformat": 4,
 "nbformat_minor": 5
}
