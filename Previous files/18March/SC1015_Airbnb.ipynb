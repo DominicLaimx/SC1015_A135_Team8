{
 "cells": [
  {
   "cell_type": "code",
   "execution_count": null,
   "id": "fbf0a9d3",
   "metadata": {},
   "outputs": [],
   "source": [
    "# Other ideas\n",
    "# "
   ]
  },
  {
   "cell_type": "markdown",
   "id": "941f81f6",
   "metadata": {},
   "source": [
    "# Introduction\n",
    "\n"
   ]
  },
  {
   "cell_type": "code",
   "execution_count": 78,
   "id": "a106c5eb",
   "metadata": {},
   "outputs": [],
   "source": [
    "# Basic Libraries\n",
    "import numpy as np\n",
    "import pandas as pd\n",
    "import seaborn as sb\n",
    "import matplotlib.pyplot as plt\n",
    "sb.set()"
   ]
  },
  {
   "cell_type": "markdown",
   "id": "455f952c",
   "metadata": {},
   "source": [
    "# Importing of dataset and checking dataset information"
   ]
  },
  {
   "cell_type": "code",
   "execution_count": 79,
   "id": "ea23ab92",
   "metadata": {},
   "outputs": [],
   "source": [
    "def concatcsv(inputfile,output):\n",
    "    tempdata = pd.read_csv(inputfile)\n",
    "    tempdata['city'] = inputfile.split('_')[0]\n",
    "    tempdata['weekdays'] = inputfile.split('_')[1].split('.')[0] == 'weekdays'\n",
    "    output = pd.concat([output,tempdata],axis=0)\n",
    "    return output"
   ]
  },
  {
   "cell_type": "code",
   "execution_count": 80,
   "id": "caf40d8e",
   "metadata": {},
   "outputs": [
    {
     "data": {
      "text/html": [
       "<div>\n",
       "<style scoped>\n",
       "    .dataframe tbody tr th:only-of-type {\n",
       "        vertical-align: middle;\n",
       "    }\n",
       "\n",
       "    .dataframe tbody tr th {\n",
       "        vertical-align: top;\n",
       "    }\n",
       "\n",
       "    .dataframe thead th {\n",
       "        text-align: right;\n",
       "    }\n",
       "</style>\n",
       "<table border=\"1\" class=\"dataframe\">\n",
       "  <thead>\n",
       "    <tr style=\"text-align: right;\">\n",
       "      <th></th>\n",
       "      <th>Unnamed: 0</th>\n",
       "      <th>realSum</th>\n",
       "      <th>room_type</th>\n",
       "      <th>room_shared</th>\n",
       "      <th>room_private</th>\n",
       "      <th>person_capacity</th>\n",
       "      <th>host_is_superhost</th>\n",
       "      <th>multi</th>\n",
       "      <th>biz</th>\n",
       "      <th>cleanliness_rating</th>\n",
       "      <th>...</th>\n",
       "      <th>dist</th>\n",
       "      <th>metro_dist</th>\n",
       "      <th>attr_index</th>\n",
       "      <th>attr_index_norm</th>\n",
       "      <th>rest_index</th>\n",
       "      <th>rest_index_norm</th>\n",
       "      <th>lng</th>\n",
       "      <th>lat</th>\n",
       "      <th>city</th>\n",
       "      <th>weekdays</th>\n",
       "    </tr>\n",
       "  </thead>\n",
       "  <tbody>\n",
       "    <tr>\n",
       "      <th>0</th>\n",
       "      <td>0</td>\n",
       "      <td>194.033698</td>\n",
       "      <td>Private room</td>\n",
       "      <td>False</td>\n",
       "      <td>True</td>\n",
       "      <td>2.0</td>\n",
       "      <td>False</td>\n",
       "      <td>1</td>\n",
       "      <td>0</td>\n",
       "      <td>10.0</td>\n",
       "      <td>...</td>\n",
       "      <td>5.022964</td>\n",
       "      <td>2.539380</td>\n",
       "      <td>78.690379</td>\n",
       "      <td>4.166708</td>\n",
       "      <td>98.253896</td>\n",
       "      <td>6.846473</td>\n",
       "      <td>4.90569</td>\n",
       "      <td>52.41772</td>\n",
       "      <td>amsterdam</td>\n",
       "      <td>1</td>\n",
       "    </tr>\n",
       "    <tr>\n",
       "      <th>1</th>\n",
       "      <td>1</td>\n",
       "      <td>344.245776</td>\n",
       "      <td>Private room</td>\n",
       "      <td>False</td>\n",
       "      <td>True</td>\n",
       "      <td>4.0</td>\n",
       "      <td>False</td>\n",
       "      <td>0</td>\n",
       "      <td>0</td>\n",
       "      <td>8.0</td>\n",
       "      <td>...</td>\n",
       "      <td>0.488389</td>\n",
       "      <td>0.239404</td>\n",
       "      <td>631.176378</td>\n",
       "      <td>33.421209</td>\n",
       "      <td>837.280757</td>\n",
       "      <td>58.342928</td>\n",
       "      <td>4.90005</td>\n",
       "      <td>52.37432</td>\n",
       "      <td>amsterdam</td>\n",
       "      <td>1</td>\n",
       "    </tr>\n",
       "    <tr>\n",
       "      <th>2</th>\n",
       "      <td>2</td>\n",
       "      <td>264.101422</td>\n",
       "      <td>Private room</td>\n",
       "      <td>False</td>\n",
       "      <td>True</td>\n",
       "      <td>2.0</td>\n",
       "      <td>False</td>\n",
       "      <td>0</td>\n",
       "      <td>1</td>\n",
       "      <td>9.0</td>\n",
       "      <td>...</td>\n",
       "      <td>5.748312</td>\n",
       "      <td>3.651621</td>\n",
       "      <td>75.275877</td>\n",
       "      <td>3.985908</td>\n",
       "      <td>95.386955</td>\n",
       "      <td>6.646700</td>\n",
       "      <td>4.97512</td>\n",
       "      <td>52.36103</td>\n",
       "      <td>amsterdam</td>\n",
       "      <td>1</td>\n",
       "    </tr>\n",
       "    <tr>\n",
       "      <th>3</th>\n",
       "      <td>3</td>\n",
       "      <td>433.529398</td>\n",
       "      <td>Private room</td>\n",
       "      <td>False</td>\n",
       "      <td>True</td>\n",
       "      <td>4.0</td>\n",
       "      <td>False</td>\n",
       "      <td>0</td>\n",
       "      <td>1</td>\n",
       "      <td>9.0</td>\n",
       "      <td>...</td>\n",
       "      <td>0.384862</td>\n",
       "      <td>0.439876</td>\n",
       "      <td>493.272534</td>\n",
       "      <td>26.119108</td>\n",
       "      <td>875.033098</td>\n",
       "      <td>60.973565</td>\n",
       "      <td>4.89417</td>\n",
       "      <td>52.37663</td>\n",
       "      <td>amsterdam</td>\n",
       "      <td>1</td>\n",
       "    </tr>\n",
       "    <tr>\n",
       "      <th>4</th>\n",
       "      <td>4</td>\n",
       "      <td>485.552926</td>\n",
       "      <td>Private room</td>\n",
       "      <td>False</td>\n",
       "      <td>True</td>\n",
       "      <td>2.0</td>\n",
       "      <td>True</td>\n",
       "      <td>0</td>\n",
       "      <td>0</td>\n",
       "      <td>10.0</td>\n",
       "      <td>...</td>\n",
       "      <td>0.544738</td>\n",
       "      <td>0.318693</td>\n",
       "      <td>552.830324</td>\n",
       "      <td>29.272733</td>\n",
       "      <td>815.305740</td>\n",
       "      <td>56.811677</td>\n",
       "      <td>4.90051</td>\n",
       "      <td>52.37508</td>\n",
       "      <td>amsterdam</td>\n",
       "      <td>1</td>\n",
       "    </tr>\n",
       "  </tbody>\n",
       "</table>\n",
       "<p>5 rows × 22 columns</p>\n",
       "</div>"
      ],
      "text/plain": [
       "   Unnamed: 0     realSum     room_type  room_shared  room_private  \\\n",
       "0           0  194.033698  Private room        False          True   \n",
       "1           1  344.245776  Private room        False          True   \n",
       "2           2  264.101422  Private room        False          True   \n",
       "3           3  433.529398  Private room        False          True   \n",
       "4           4  485.552926  Private room        False          True   \n",
       "\n",
       "   person_capacity  host_is_superhost  multi  biz  cleanliness_rating  ...  \\\n",
       "0              2.0              False      1    0                10.0  ...   \n",
       "1              4.0              False      0    0                 8.0  ...   \n",
       "2              2.0              False      0    1                 9.0  ...   \n",
       "3              4.0              False      0    1                 9.0  ...   \n",
       "4              2.0               True      0    0                10.0  ...   \n",
       "\n",
       "       dist  metro_dist  attr_index  attr_index_norm  rest_index  \\\n",
       "0  5.022964    2.539380   78.690379         4.166708   98.253896   \n",
       "1  0.488389    0.239404  631.176378        33.421209  837.280757   \n",
       "2  5.748312    3.651621   75.275877         3.985908   95.386955   \n",
       "3  0.384862    0.439876  493.272534        26.119108  875.033098   \n",
       "4  0.544738    0.318693  552.830324        29.272733  815.305740   \n",
       "\n",
       "   rest_index_norm      lng       lat       city  weekdays  \n",
       "0         6.846473  4.90569  52.41772  amsterdam         1  \n",
       "1        58.342928  4.90005  52.37432  amsterdam         1  \n",
       "2         6.646700  4.97512  52.36103  amsterdam         1  \n",
       "3        60.973565  4.89417  52.37663  amsterdam         1  \n",
       "4        56.811677  4.90051  52.37508  amsterdam         1  \n",
       "\n",
       "[5 rows x 22 columns]"
      ]
     },
     "execution_count": 80,
     "metadata": {},
     "output_type": "execute_result"
    }
   ],
   "source": [
    "data = pd.read_csv('amsterdam_weekdays.csv',header='infer')\n",
    "data['city']='amsterdam'\n",
    "data['weekdays']=1\n",
    "data.head()"
   ]
  },
  {
   "cell_type": "code",
   "execution_count": 81,
   "id": "911ed828",
   "metadata": {},
   "outputs": [],
   "source": [
    "data = concatcsv('amsterdam_weekends.csv',data)\n",
    "data = concatcsv('athens_weekends.csv',data)\n",
    "data = concatcsv('athens_weekdays.csv',data)\n",
    "data = concatcsv('barcelona_weekends.csv',data)\n",
    "data = concatcsv('barcelona_weekdays.csv',data)\n",
    "data = concatcsv('berlin_weekends.csv',data)\n",
    "data = concatcsv('berlin_weekdays.csv',data)\n",
    "data = concatcsv('budapest_weekends.csv',data)\n",
    "data = concatcsv('budapest_weekdays.csv',data)\n",
    "data = concatcsv('lisbon_weekends.csv',data)\n",
    "data = concatcsv('lisbon_weekdays.csv',data)\n",
    "data = concatcsv('london_weekends.csv',data)\n",
    "data = concatcsv('london_weekdays.csv',data)\n",
    "data = concatcsv('paris_weekends.csv',data)\n",
    "data = concatcsv('paris_weekdays.csv',data)\n",
    "data = concatcsv('rome_weekends.csv',data)\n",
    "data = concatcsv('rome_weekdays.csv',data)\n",
    "data = concatcsv('vienna_weekends.csv',data)\n",
    "data = concatcsv('vienna_weekdays.csv',data)"
   ]
  },
  {
   "cell_type": "code",
   "execution_count": null,
   "id": "2714315e",
   "metadata": {},
   "outputs": [],
   "source": []
  },
  {
   "cell_type": "code",
   "execution_count": 82,
   "id": "7f6b3d07",
   "metadata": {},
   "outputs": [
    {
     "data": {
      "text/plain": [
       "0    26207\n",
       "1    25500\n",
       "Name: weekdays, dtype: int64"
      ]
     },
     "execution_count": 82,
     "metadata": {},
     "output_type": "execute_result"
    }
   ],
   "source": [
    "data['weekdays'].value_counts()"
   ]
  },
  {
   "cell_type": "code",
   "execution_count": 83,
   "id": "e2203093",
   "metadata": {},
   "outputs": [
    {
     "data": {
      "text/plain": [
       "london       9993\n",
       "rome         9027\n",
       "paris        6688\n",
       "lisbon       5763\n",
       "athens       5280\n",
       "budapest     4022\n",
       "vienna       3537\n",
       "barcelona    2833\n",
       "berlin       2484\n",
       "amsterdam    2080\n",
       "Name: city, dtype: int64"
      ]
     },
     "execution_count": 83,
     "metadata": {},
     "output_type": "execute_result"
    }
   ],
   "source": [
    "data['city'].value_counts()"
   ]
  },
  {
   "cell_type": "code",
   "execution_count": 88,
   "id": "893b7bec",
   "metadata": {},
   "outputs": [],
   "source": [
    "data.drop(columns=data.columns[0],inplace=True)"
   ]
  },
  {
   "cell_type": "code",
   "execution_count": 89,
   "id": "0734d18b",
   "metadata": {},
   "outputs": [
    {
     "name": "stdout",
     "output_type": "stream",
     "text": [
      "realSum                       float64\n",
      "room_type                      object\n",
      "room_shared                      bool\n",
      "room_private                     bool\n",
      "person_capacity               float64\n",
      "host_is_superhost                bool\n",
      "multi                           int64\n",
      "biz                             int64\n",
      "cleanliness_rating            float64\n",
      "guest_satisfaction_overall    float64\n",
      "bedrooms                        int64\n",
      "dist                          float64\n",
      "metro_dist                    float64\n",
      "attr_index                    float64\n",
      "attr_index_norm               float64\n",
      "rest_index                    float64\n",
      "rest_index_norm               float64\n",
      "lng                           float64\n",
      "lat                           float64\n",
      "city                           object\n",
      "weekdays                        int64\n",
      "dtype: object\n"
     ]
    }
   ],
   "source": [
    "print(data.dtypes)"
   ]
  },
  {
   "cell_type": "code",
   "execution_count": 90,
   "id": "86eb741d",
   "metadata": {},
   "outputs": [
    {
     "data": {
      "text/html": [
       "<div>\n",
       "<style scoped>\n",
       "    .dataframe tbody tr th:only-of-type {\n",
       "        vertical-align: middle;\n",
       "    }\n",
       "\n",
       "    .dataframe tbody tr th {\n",
       "        vertical-align: top;\n",
       "    }\n",
       "\n",
       "    .dataframe thead th {\n",
       "        text-align: right;\n",
       "    }\n",
       "</style>\n",
       "<table border=\"1\" class=\"dataframe\">\n",
       "  <thead>\n",
       "    <tr style=\"text-align: right;\">\n",
       "      <th></th>\n",
       "      <th>realSum</th>\n",
       "      <th>person_capacity</th>\n",
       "      <th>multi</th>\n",
       "      <th>biz</th>\n",
       "      <th>cleanliness_rating</th>\n",
       "      <th>guest_satisfaction_overall</th>\n",
       "      <th>bedrooms</th>\n",
       "      <th>dist</th>\n",
       "      <th>metro_dist</th>\n",
       "      <th>attr_index</th>\n",
       "      <th>attr_index_norm</th>\n",
       "      <th>rest_index</th>\n",
       "      <th>rest_index_norm</th>\n",
       "      <th>lng</th>\n",
       "      <th>lat</th>\n",
       "      <th>weekdays</th>\n",
       "    </tr>\n",
       "  </thead>\n",
       "  <tbody>\n",
       "    <tr>\n",
       "      <th>count</th>\n",
       "      <td>51707.000000</td>\n",
       "      <td>51707.000000</td>\n",
       "      <td>51707.000000</td>\n",
       "      <td>51707.000000</td>\n",
       "      <td>51707.000000</td>\n",
       "      <td>51707.000000</td>\n",
       "      <td>51707.00000</td>\n",
       "      <td>51707.000000</td>\n",
       "      <td>51707.000000</td>\n",
       "      <td>51707.000000</td>\n",
       "      <td>51707.000000</td>\n",
       "      <td>51707.000000</td>\n",
       "      <td>51707.000000</td>\n",
       "      <td>51707.000000</td>\n",
       "      <td>51707.000000</td>\n",
       "      <td>51707.000000</td>\n",
       "    </tr>\n",
       "    <tr>\n",
       "      <th>mean</th>\n",
       "      <td>279.879591</td>\n",
       "      <td>3.161661</td>\n",
       "      <td>0.291353</td>\n",
       "      <td>0.350204</td>\n",
       "      <td>9.390624</td>\n",
       "      <td>92.628232</td>\n",
       "      <td>1.15876</td>\n",
       "      <td>3.191285</td>\n",
       "      <td>0.681540</td>\n",
       "      <td>294.204105</td>\n",
       "      <td>13.423792</td>\n",
       "      <td>626.856696</td>\n",
       "      <td>22.786177</td>\n",
       "      <td>7.426068</td>\n",
       "      <td>45.671128</td>\n",
       "      <td>0.493163</td>\n",
       "    </tr>\n",
       "    <tr>\n",
       "      <th>std</th>\n",
       "      <td>327.948386</td>\n",
       "      <td>1.298545</td>\n",
       "      <td>0.454390</td>\n",
       "      <td>0.477038</td>\n",
       "      <td>0.954868</td>\n",
       "      <td>8.945531</td>\n",
       "      <td>0.62741</td>\n",
       "      <td>2.393803</td>\n",
       "      <td>0.858023</td>\n",
       "      <td>224.754123</td>\n",
       "      <td>9.807985</td>\n",
       "      <td>497.920226</td>\n",
       "      <td>17.804096</td>\n",
       "      <td>9.799725</td>\n",
       "      <td>5.249263</td>\n",
       "      <td>0.499958</td>\n",
       "    </tr>\n",
       "    <tr>\n",
       "      <th>min</th>\n",
       "      <td>34.779339</td>\n",
       "      <td>2.000000</td>\n",
       "      <td>0.000000</td>\n",
       "      <td>0.000000</td>\n",
       "      <td>2.000000</td>\n",
       "      <td>20.000000</td>\n",
       "      <td>0.00000</td>\n",
       "      <td>0.015045</td>\n",
       "      <td>0.002301</td>\n",
       "      <td>15.152201</td>\n",
       "      <td>0.926301</td>\n",
       "      <td>19.576924</td>\n",
       "      <td>0.592757</td>\n",
       "      <td>-9.226340</td>\n",
       "      <td>37.953000</td>\n",
       "      <td>0.000000</td>\n",
       "    </tr>\n",
       "    <tr>\n",
       "      <th>25%</th>\n",
       "      <td>148.752174</td>\n",
       "      <td>2.000000</td>\n",
       "      <td>0.000000</td>\n",
       "      <td>0.000000</td>\n",
       "      <td>9.000000</td>\n",
       "      <td>90.000000</td>\n",
       "      <td>1.00000</td>\n",
       "      <td>1.453142</td>\n",
       "      <td>0.248480</td>\n",
       "      <td>136.797385</td>\n",
       "      <td>6.380926</td>\n",
       "      <td>250.854114</td>\n",
       "      <td>8.751480</td>\n",
       "      <td>-0.072500</td>\n",
       "      <td>41.399510</td>\n",
       "      <td>0.000000</td>\n",
       "    </tr>\n",
       "    <tr>\n",
       "      <th>50%</th>\n",
       "      <td>211.343089</td>\n",
       "      <td>3.000000</td>\n",
       "      <td>0.000000</td>\n",
       "      <td>0.000000</td>\n",
       "      <td>10.000000</td>\n",
       "      <td>95.000000</td>\n",
       "      <td>1.00000</td>\n",
       "      <td>2.613538</td>\n",
       "      <td>0.413269</td>\n",
       "      <td>234.331748</td>\n",
       "      <td>11.468305</td>\n",
       "      <td>522.052783</td>\n",
       "      <td>17.542238</td>\n",
       "      <td>4.873000</td>\n",
       "      <td>47.506690</td>\n",
       "      <td>0.000000</td>\n",
       "    </tr>\n",
       "    <tr>\n",
       "      <th>75%</th>\n",
       "      <td>319.694287</td>\n",
       "      <td>4.000000</td>\n",
       "      <td>1.000000</td>\n",
       "      <td>1.000000</td>\n",
       "      <td>10.000000</td>\n",
       "      <td>99.000000</td>\n",
       "      <td>1.00000</td>\n",
       "      <td>4.263077</td>\n",
       "      <td>0.737840</td>\n",
       "      <td>385.756381</td>\n",
       "      <td>17.415082</td>\n",
       "      <td>832.628988</td>\n",
       "      <td>32.964603</td>\n",
       "      <td>13.518825</td>\n",
       "      <td>51.471885</td>\n",
       "      <td>1.000000</td>\n",
       "    </tr>\n",
       "    <tr>\n",
       "      <th>max</th>\n",
       "      <td>18545.450285</td>\n",
       "      <td>6.000000</td>\n",
       "      <td>1.000000</td>\n",
       "      <td>1.000000</td>\n",
       "      <td>10.000000</td>\n",
       "      <td>100.000000</td>\n",
       "      <td>10.00000</td>\n",
       "      <td>25.284557</td>\n",
       "      <td>14.273577</td>\n",
       "      <td>4513.563486</td>\n",
       "      <td>100.000000</td>\n",
       "      <td>6696.156772</td>\n",
       "      <td>100.000000</td>\n",
       "      <td>23.786020</td>\n",
       "      <td>52.641410</td>\n",
       "      <td>1.000000</td>\n",
       "    </tr>\n",
       "  </tbody>\n",
       "</table>\n",
       "</div>"
      ],
      "text/plain": [
       "            realSum  person_capacity         multi           biz  \\\n",
       "count  51707.000000     51707.000000  51707.000000  51707.000000   \n",
       "mean     279.879591         3.161661      0.291353      0.350204   \n",
       "std      327.948386         1.298545      0.454390      0.477038   \n",
       "min       34.779339         2.000000      0.000000      0.000000   \n",
       "25%      148.752174         2.000000      0.000000      0.000000   \n",
       "50%      211.343089         3.000000      0.000000      0.000000   \n",
       "75%      319.694287         4.000000      1.000000      1.000000   \n",
       "max    18545.450285         6.000000      1.000000      1.000000   \n",
       "\n",
       "       cleanliness_rating  guest_satisfaction_overall     bedrooms  \\\n",
       "count        51707.000000                51707.000000  51707.00000   \n",
       "mean             9.390624                   92.628232      1.15876   \n",
       "std              0.954868                    8.945531      0.62741   \n",
       "min              2.000000                   20.000000      0.00000   \n",
       "25%              9.000000                   90.000000      1.00000   \n",
       "50%             10.000000                   95.000000      1.00000   \n",
       "75%             10.000000                   99.000000      1.00000   \n",
       "max             10.000000                  100.000000     10.00000   \n",
       "\n",
       "               dist    metro_dist    attr_index  attr_index_norm  \\\n",
       "count  51707.000000  51707.000000  51707.000000     51707.000000   \n",
       "mean       3.191285      0.681540    294.204105        13.423792   \n",
       "std        2.393803      0.858023    224.754123         9.807985   \n",
       "min        0.015045      0.002301     15.152201         0.926301   \n",
       "25%        1.453142      0.248480    136.797385         6.380926   \n",
       "50%        2.613538      0.413269    234.331748        11.468305   \n",
       "75%        4.263077      0.737840    385.756381        17.415082   \n",
       "max       25.284557     14.273577   4513.563486       100.000000   \n",
       "\n",
       "         rest_index  rest_index_norm           lng           lat      weekdays  \n",
       "count  51707.000000     51707.000000  51707.000000  51707.000000  51707.000000  \n",
       "mean     626.856696        22.786177      7.426068     45.671128      0.493163  \n",
       "std      497.920226        17.804096      9.799725      5.249263      0.499958  \n",
       "min       19.576924         0.592757     -9.226340     37.953000      0.000000  \n",
       "25%      250.854114         8.751480     -0.072500     41.399510      0.000000  \n",
       "50%      522.052783        17.542238      4.873000     47.506690      0.000000  \n",
       "75%      832.628988        32.964603     13.518825     51.471885      1.000000  \n",
       "max     6696.156772       100.000000     23.786020     52.641410      1.000000  "
      ]
     },
     "execution_count": 90,
     "metadata": {},
     "output_type": "execute_result"
    }
   ],
   "source": [
    "# print(data.dtypes)\n",
    "data.describe()"
   ]
  },
  {
   "cell_type": "markdown",
   "id": "562cac45",
   "metadata": {},
   "source": [
    "# About the dataset: \n",
    "    https://www.kaggle.com/datasets/thedevastator/airbnb-prices-in-european-cities?select=lisbon_weekends.csv\n",
    "    \n",
    "   "
   ]
  },
  {
   "cell_type": "markdown",
   "id": "2548aac2",
   "metadata": {},
   "source": [
    "Improvements to be made:\n",
    "    dataset does not consider multiple song artist or different versions of the song\n",
    "    only considered top hits from the years"
   ]
  },
  {
   "cell_type": "markdown",
   "id": "0c293c1e",
   "metadata": {},
   "source": [
    "# Cleaing and preparing of dataset"
   ]
  },
  {
   "cell_type": "code",
   "execution_count": 6,
   "id": "0fa54f85",
   "metadata": {},
   "outputs": [
    {
     "name": "stdout",
     "output_type": "stream",
     "text": [
      "Unnamed: 0                    0\n",
      "realSum                       0\n",
      "room_type                     0\n",
      "room_shared                   0\n",
      "room_private                  0\n",
      "person_capacity               0\n",
      "host_is_superhost             0\n",
      "multi                         0\n",
      "biz                           0\n",
      "cleanliness_rating            0\n",
      "guest_satisfaction_overall    0\n",
      "bedrooms                      0\n",
      "dist                          0\n",
      "metro_dist                    0\n",
      "attr_index                    0\n",
      "attr_index_norm               0\n",
      "rest_index                    0\n",
      "rest_index_norm               0\n",
      "lng                           0\n",
      "lat                           0\n",
      "dtype: int64\n"
     ]
    }
   ],
   "source": [
    "print(data.isnull().sum())"
   ]
  },
  {
   "cell_type": "code",
   "execution_count": null,
   "id": "2bc9fe96",
   "metadata": {},
   "outputs": [],
   "source": [
    "def outlier(df, col):\n",
    "    sorted(df[col])\n",
    "    Q1,Q3 = np.percentile(df[col] , [25,75])\n",
    "    IQR = Q3 - Q1\n",
    "    lower_range = Q1 - (1.5 * IQR)\n",
    "    upper_range = Q3 + (1.5 * IQR)\n",
    "    return lower_range,upper_range"
   ]
  },
  {
   "cell_type": "code",
   "execution_count": null,
   "id": "d3a8486a",
   "metadata": {},
   "outputs": [],
   "source": []
  },
  {
   "cell_type": "code",
   "execution_count": null,
   "id": "222dbc55",
   "metadata": {},
   "outputs": [],
   "source": [
    "\n"
   ]
  },
  {
   "cell_type": "code",
   "execution_count": null,
   "id": "a253b941",
   "metadata": {},
   "outputs": [],
   "source": []
  },
  {
   "cell_type": "code",
   "execution_count": null,
   "id": "b91ddd38",
   "metadata": {},
   "outputs": [],
   "source": []
  },
  {
   "cell_type": "markdown",
   "id": "d4f332ea",
   "metadata": {},
   "source": [
    "# Exploratory Data Analysis (EDA)"
   ]
  },
  {
   "cell_type": "markdown",
   "id": "5d8d942a",
   "metadata": {},
   "source": [
    "# a) Numerical Analysis"
   ]
  },
  {
   "cell_type": "code",
   "execution_count": null,
   "id": "a6ca4f65",
   "metadata": {},
   "outputs": [],
   "source": []
  },
  {
   "cell_type": "markdown",
   "id": "86487dd0",
   "metadata": {},
   "source": [
    "# b) Categorical Analysis"
   ]
  },
  {
   "cell_type": "code",
   "execution_count": null,
   "id": "c54b2b4b",
   "metadata": {},
   "outputs": [],
   "source": []
  },
  {
   "cell_type": "markdown",
   "id": "1689ee77",
   "metadata": {},
   "source": [
    "# b1) Genre"
   ]
  },
  {
   "cell_type": "code",
   "execution_count": null,
   "id": "eddfc185",
   "metadata": {},
   "outputs": [],
   "source": []
  },
  {
   "cell_type": "code",
   "execution_count": null,
   "id": "8935bdb6",
   "metadata": {},
   "outputs": [],
   "source": []
  },
  {
   "cell_type": "code",
   "execution_count": null,
   "id": "8b209d77",
   "metadata": {},
   "outputs": [],
   "source": []
  },
  {
   "cell_type": "markdown",
   "id": "7fc03efa",
   "metadata": {},
   "source": [
    "# Bivariate Analysis"
   ]
  },
  {
   "cell_type": "code",
   "execution_count": null,
   "id": "af07b4b3",
   "metadata": {},
   "outputs": [],
   "source": []
  },
  {
   "cell_type": "markdown",
   "id": "ac45134a",
   "metadata": {},
   "source": [
    "# Feature Engineering\n",
    "\n",
    "https://towardsdatascience.com/what-is-feature-engineering-importance-tools-and-techniques-for-machine-learning-2080b0269f10\n",
    "\n",
    "One hot encoding\n",
    "\n",
    "Creation of new columns\n",
    "\n",
    "normalization"
   ]
  },
  {
   "cell_type": "code",
   "execution_count": null,
   "id": "cf089bc9",
   "metadata": {},
   "outputs": [],
   "source": []
  },
  {
   "cell_type": "code",
   "execution_count": null,
   "id": "9f0221b1",
   "metadata": {},
   "outputs": [],
   "source": []
  },
  {
   "cell_type": "markdown",
   "id": "ed42a662",
   "metadata": {},
   "source": [
    "# Machine learning"
   ]
  },
  {
   "cell_type": "code",
   "execution_count": null,
   "id": "4062cc67",
   "metadata": {},
   "outputs": [],
   "source": []
  },
  {
   "cell_type": "markdown",
   "id": "9bfc57e3",
   "metadata": {},
   "source": [
    "# Linear regression"
   ]
  },
  {
   "cell_type": "code",
   "execution_count": null,
   "id": "0d2fe577",
   "metadata": {},
   "outputs": [],
   "source": []
  },
  {
   "cell_type": "markdown",
   "id": "bbcf44e4",
   "metadata": {},
   "source": [
    "# Logistic regression\n",
    "\n"
   ]
  },
  {
   "cell_type": "code",
   "execution_count": null,
   "id": "43a20870",
   "metadata": {},
   "outputs": [],
   "source": []
  },
  {
   "cell_type": "markdown",
   "id": "c41b1afa",
   "metadata": {},
   "source": [
    "# Random Forest Regressor"
   ]
  },
  {
   "cell_type": "code",
   "execution_count": null,
   "id": "9451fb0d",
   "metadata": {},
   "outputs": [],
   "source": []
  },
  {
   "cell_type": "code",
   "execution_count": 17,
   "id": "f041404a",
   "metadata": {},
   "outputs": [],
   "source": []
  },
  {
   "cell_type": "code",
   "execution_count": 19,
   "id": "5dabf0b4",
   "metadata": {},
   "outputs": [],
   "source": []
  },
  {
   "cell_type": "code",
   "execution_count": 30,
   "id": "10e91cf9",
   "metadata": {},
   "outputs": [],
   "source": []
  },
  {
   "cell_type": "code",
   "execution_count": 31,
   "id": "1707daa6",
   "metadata": {},
   "outputs": [],
   "source": []
  },
  {
   "cell_type": "code",
   "execution_count": null,
   "id": "af8005f3",
   "metadata": {},
   "outputs": [],
   "source": []
  },
  {
   "cell_type": "code",
   "execution_count": 42,
   "id": "0c6bbd37",
   "metadata": {},
   "outputs": [],
   "source": []
  },
  {
   "cell_type": "code",
   "execution_count": 44,
   "id": "5d4d4233",
   "metadata": {},
   "outputs": [],
   "source": []
  },
  {
   "cell_type": "code",
   "execution_count": null,
   "id": "9e85a58f",
   "metadata": {},
   "outputs": [],
   "source": []
  },
  {
   "cell_type": "code",
   "execution_count": null,
   "id": "296c55cc",
   "metadata": {},
   "outputs": [],
   "source": []
  },
  {
   "cell_type": "code",
   "execution_count": null,
   "id": "c572c4f7",
   "metadata": {},
   "outputs": [],
   "source": []
  },
  {
   "cell_type": "code",
   "execution_count": null,
   "id": "139c1e2c",
   "metadata": {},
   "outputs": [],
   "source": []
  },
  {
   "cell_type": "code",
   "execution_count": null,
   "id": "8be54944",
   "metadata": {},
   "outputs": [],
   "source": []
  },
  {
   "cell_type": "code",
   "execution_count": null,
   "id": "b43eb00b",
   "metadata": {},
   "outputs": [],
   "source": []
  },
  {
   "cell_type": "code",
   "execution_count": null,
   "id": "e489bfb5",
   "metadata": {},
   "outputs": [],
   "source": []
  },
  {
   "cell_type": "code",
   "execution_count": null,
   "id": "007ed6a4",
   "metadata": {},
   "outputs": [],
   "source": []
  }
 ],
 "metadata": {
  "kernelspec": {
   "display_name": "Python 3 (ipykernel)",
   "language": "python",
   "name": "python3"
  },
  "language_info": {
   "codemirror_mode": {
    "name": "ipython",
    "version": 3
   },
   "file_extension": ".py",
   "mimetype": "text/x-python",
   "name": "python",
   "nbconvert_exporter": "python",
   "pygments_lexer": "ipython3",
   "version": "3.9.7"
  }
 },
 "nbformat": 4,
 "nbformat_minor": 5
}
